{
 "cells": [
  {
   "cell_type": "code",
   "execution_count": 123,
   "metadata": {},
   "outputs": [],
   "source": [
    "import numpy as np\n",
    "import cvxpy as cp\n",
    "from scipy import linalg, integrate, signal\n",
    "import os\n",
    "\n",
    "from mujoco import MjModel, MjData\n",
    "import gymnasium as gym"
   ]
  },
  {
   "cell_type": "code",
   "execution_count": null,
   "metadata": {},
   "outputs": [],
   "source": [
    "filepath = 'pendulum.xml'\n",
    "model = MjModel.from_xml_path('pendulum.xml')\n",
    "data = MjData(model)\n",
    "\n",
    "# 各ボディの質量を取得\n",
    "for i in range(model.nbody):\n",
    "    print(f\"Body: {model.body(i).name}\")\n",
    "    print(f\"  Mass: {model.body_mass[i]}\")\n",
    "\n",
    "# 各ボディの慣性テンソルを取得\n",
    "for i in range(model.nbody):\n",
    "    print(f\"Body: {model.body(i).name}\")\n",
    "    print(f\"  Inertia Tensor: {model.body_inertia[i]}\")"
   ]
  },
  {
   "cell_type": "markdown",
   "metadata": {},
   "source": [
    "シミュレータが持つ設定値を確認したところで、ある程度ラフにモデルを作ってしまいましょう。今回は入出力が複数あるので現代制御的なモデルの表現を用いますが、本質的には古典制御のモデルと変わりません。"
   ]
  },
  {
   "cell_type": "code",
   "execution_count": 125,
   "metadata": {},
   "outputs": [],
   "source": [
    "M = 1.05 # cart mass\n",
    "m = 0.5    # pole mass\n",
    "l = 0.6  # pole length\n",
    "g = 9.81  # gravitational acceleration\n",
    "tau = 100 # gear ratio\n",
    "\n",
    "# system equation\n",
    "A = np.array([[0,               0, 1, 0], \n",
    "              [0,               0, 0, 1],\n",
    "              [0,          -m*g/M, 0, 0],\n",
    "              [0, (M + m)*g/(M*l), 0, 0]])   # システム行列\n",
    "B = np.array([[0], \n",
    "              [0],\n",
    "              [tau/M],\n",
    "              [-tau/(M*l)]])  "
   ]
  },
  {
   "cell_type": "markdown",
   "metadata": {},
   "source": [
    "### 最も簡単な制御\n",
    " 状態フィードバックによる制御を実施します。\n",
    " 今回の系は多入力多出力系なので現代制御の言葉を用いていますが、要するにPID制御の一種と捉えて大丈夫です。"
   ]
  },
  {
   "cell_type": "code",
   "execution_count": null,
   "metadata": {},
   "outputs": [],
   "source": [
    "filepath = os.path.abspath(filepath)\n",
    "env = gym.make('InvertedPendulum-v5', xml_file=filepath, render_mode=\"human\")\n",
    "\n",
    "# パラメータ設定\n",
    "x_ref = np.zeros(4)  # 目標値\n",
    "K_p = -np.array([5, 1])     # 制御ゲイン\n",
    "K_d = -np.array([1, 1])\n",
    "K = np.hstack((K_p, K_d))\n",
    "print(K)\n",
    "\n",
    "# PID controller\n",
    "def pid_control(state, ref, K):\n",
    "    x = state\n",
    "    error = ref - x\n",
    "    u = K[:2] @ error[:2]  + K[2:] @ error[2:]\n",
    "\n",
    "    return np.array([u])\n",
    "\n",
    "\n",
    "state, info = env.reset()\n",
    "print(state)\n",
    "for t in range(300):\n",
    "    action = pid_control(state, x_ref, K)\n",
    "    next_state, reward, done, truncated, info = env.step(action)\n",
    "    state = next_state\n",
    "    \n",
    "    # if done:\n",
    "    #     break\n",
    "env.close()"
   ]
  },
  {
   "cell_type": "markdown",
   "metadata": {},
   "source": [
    "手で調整するのは難しそうなので、LQRを利用してゲインを決めます"
   ]
  },
  {
   "cell_type": "code",
   "execution_count": null,
   "metadata": {},
   "outputs": [],
   "source": [
    "filepath = os.path.abspath(filepath)\n",
    "env = gym.make('InvertedPendulum-v5', xml_file=filepath, render_mode=\"human\", reset_noise_scale=0.0)\n",
    "\n",
    "# 重み行列 Q, R（任意に設定）\n",
    "Q = np.diag([1, 1, 1, 1])       # 状態の重み（正定値行列）\n",
    "R = np.array([[100]])        # 入力の重み（正定値行列）\n",
    "\n",
    "# リカッチ方程式を解いてLQRゲインを計算\n",
    "X = np.matrix(linalg.solve_continuous_are(A, B, Q, R))\n",
    "KK = np.squeeze(np.array(linalg.inv(R) * (B.T @ X)))\n",
    "print(KK)\n",
    "\n",
    "state, info = env.reset()\n",
    "dt = 0.02\n",
    "\n",
    "for k in range(500):\n",
    "    x_ref[0] = 0.8*np.sin(2*np.pi*k*dt/2)\n",
    "    action = pid_control(state, x_ref, KK)\n",
    "    next_state, reward, done, truncated, info = env.step(action)\n",
    "    state = next_state\n",
    "    \n",
    "    # if done:\n",
    "    #     break\n",
    "env.close()"
   ]
  },
  {
   "cell_type": "markdown",
   "metadata": {},
   "source": [
    "### IFT\n",
    "IFTを使ったチューニングもやってみましょう。今回はFRITを試してみます。"
   ]
  },
  {
   "cell_type": "code",
   "execution_count": null,
   "metadata": {},
   "outputs": [],
   "source": []
  },
  {
   "cell_type": "markdown",
   "metadata": {},
   "source": [
    "### MPC(モデル予測制御)\n",
    "今回はFA分野でも導入の試みがあるPFCの例を示します。以下の実装は最も簡単な例です。実装者にとってはあまり簡単ではないですが、通常のMPCと比べるとオンライン計算の量が非常に少ないためPLCでも実装例があるそうです。また、利用者にとってはパラメータ調整が簡単になるメリットがあります。\n",
    "IHIとか住友化学とかで例あり。"
   ]
  },
  {
   "cell_type": "code",
   "execution_count": null,
   "metadata": {},
   "outputs": [],
   "source": [
    "# 環境の設定\n",
    "env = gym.make('InvertedPendulum-v5', xml_file=filepath, render_mode=\"human\", reset_noise_scale=0.0)\n",
    "\n",
    "# パラメータ設定\n",
    "T_ctrl = np.array([0.1, 0.1]) # 時定数\n",
    "h1 = 2 # receding horizon 1\n",
    "h2 = 12 # receding horizon 2\n",
    "u_min, u_max = -3, 3 # input constraint\n",
    "\n",
    "\n",
    "# prepare discrete system\n",
    "dt = 0.02\n",
    "C = np.array([[1, 0, 0, 0],\n",
    "              [0, 1, 0, 0]])\n",
    "D = np.array([[0]])\n",
    "d_system = signal.cont2discrete((A - B@np.array([KK]), B, C, D), dt) # include state feedback to stabilize plant model \n",
    "A_d, B_d, C_d, D_d, dt = d_system\n",
    "\n",
    "# offline calculation for pfc\n",
    "G_h1 = np.hstack([C_d@np.linalg.matrix_power(A_d, i)@B_d for i in reversed(range(h1 + 1))]) # coeff for horizon 1\n",
    "step1_array = np.ones(h1 + 1).T\n",
    "lamp1_array = np.array([i*dt for i in range(h1 + 1)]).T\n",
    "G_h2 = np.hstack([C_d@np.linalg.matrix_power(A_d, i)@B_d for i in reversed(range(h2 + 1))]) # coeff for horizon 2\n",
    "step2_array = np.ones(h2 + 1).T\n",
    "lamp2_array = np.array([i*dt for i in range(h2 + 1)]).T\n",
    "\n",
    "S_f_mat = np.vstack((np.hstack([np.dot(G_h1, step1_array), np.dot(G_h2, step2_array)]),\n",
    "                    np.hstack([np.dot(G_h1, lamp1_array), np.dot(G_h2, lamp2_array)]))).T\n",
    "def fpc_control(y_ideal, x):\n",
    "    u_delta = np.linalg.pinv(S_f_mat)@(y_ideal - np.hstack([C_d@np.linalg.matrix_power(A_d, h1)@x, C_d@np.linalg.matrix_power(A_d, h2)@x]) + np.hstack((C_d@x, C_d@x)))\n",
    "\n",
    "    return u_delta\n",
    "\n",
    "\n",
    "import time\n",
    "state, info = env.reset()\n",
    "action = np.array([0])\n",
    "start_time = time.time()\n",
    "max_delta = 0\n",
    "ref = np.zeros(4)\n",
    "# TODO set input to pid control\n",
    "for k in range(500):\n",
    "    x_ref[0] = 0.8*np.sin(2*np.pi*k*dt/2)\n",
    "    y_ideal = np.hstack([-(1 - np.exp(-h1*dt/T_ctrl))*(state[:2] - x_ref[:2]), -(1 - np.exp(-h2*dt/T_ctrl))*(state[:2] - x_ref[:2])]) # this is ideal offset with respect to current value\n",
    "    delta = fpc_control(y_ideal, state)\n",
    "    max_delta = max(max_delta, delta[0])\n",
    "    action = np.array([delta[0]]) + pid_control(state, ref, KK)\n",
    "    action = np.clip(action, u_min, u_max)\n",
    "    next_state, reward, done, truncated, info = env.step(action)\n",
    "    state = next_state\n",
    "\n",
    "    if done:\n",
    "        break\n",
    "print(\"elapsed time\", time.time() - start_time)\n",
    "print(max_delta)\n",
    "env.close()\n"
   ]
  },
  {
   "cell_type": "markdown",
   "metadata": {},
   "source": [
    "### 強化学習\n",
    "今回は学習済みのパラメータを利用します。全面的にライブラリの力を借りるとなんの知識もいらないので楽ちんですね"
   ]
  },
  {
   "cell_type": "code",
   "execution_count": 7,
   "metadata": {},
   "outputs": [],
   "source": [
    "import gymnasium as gym\n",
    "import os\n",
    "from stable_baselines3 import PPO\n",
    "\n",
    "filepath = 'pendulum.xml'\n",
    "filepath = os.path.abspath(filepath)\n",
    "\n",
    "save_dir = \"models/ppo_inverted_pendulum\"\n",
    "final_model_path = os.path.join(save_dir, \"ppo_inverted_pendulum_final\")\n",
    "\n",
    "model = PPO.load(final_model_path)\n",
    "env = gym.make('InvertedPendulum-v5', xml_file=filepath, render_mode=\"human\", reset_noise_scale=0.3)\n",
    "obs, _ = env.reset()\n",
    "\n",
    "for _ in range(600):  # テストエピソードの長さ\n",
    "    action, _ = model.predict(obs, deterministic=True)\n",
    "    obs, reward, terminated, truncated, info = env.step(action)\n",
    "    if terminated or truncated:\n",
    "        obs, _ = env.reset()\n",
    "\n",
    "env.close()"
   ]
  }
 ],
 "metadata": {
  "kernelspec": {
   "display_name": "Python 3",
   "language": "python",
   "name": "python3"
  },
  "language_info": {
   "codemirror_mode": {
    "name": "ipython",
    "version": 3
   },
   "file_extension": ".py",
   "mimetype": "text/x-python",
   "name": "python",
   "nbconvert_exporter": "python",
   "pygments_lexer": "ipython3",
   "version": "3.11.11"
  }
 },
 "nbformat": 4,
 "nbformat_minor": 2
}
